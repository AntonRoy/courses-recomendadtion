{
 "cells": [
  {
   "cell_type": "code",
   "execution_count": 1,
   "metadata": {
    "ExecuteTime": {
     "end_time": "2017-11-05T12:27:36.299988Z",
     "start_time": "2017-11-05T12:27:23.692803Z"
    },
    "collapsed": false,
    "run_control": {
     "marked": false
    }
   },
   "outputs": [
    {
     "name": "stderr",
     "output_type": "stream",
     "text": [
      "Using TensorFlow backend.\n"
     ]
    }
   ],
   "source": [
    "import sqlite3\n",
    "import pandas as pd\n",
    "import numpy as np\n",
    "import gensim\n",
    "from tqdm import tqdm_notebook\n",
    "import pymorphy2\n",
    "from googletrans import Translator\n",
    "import sqlalchemy\n",
    "from sqlalchemy.orm import sessionmaker, scoped_session, relationship, validates\n",
    "from sqlalchemy.ext.declarative import declarative_base\n",
    "from sqlalchemy import Table, String, Integer, Column, Date, Boolean, sql\n",
    "from sqlalchemy.schema import ForeignKey, PrimaryKeyConstraint\n",
    "from sqlalchemy.dialects import postgresql\n",
    "from functools import partial\n",
    "import requests\n",
    "from bs4 import BeautifulSoup\n",
    "from tqdm import tqdm\n",
    "import mozilla_headers"
   ]
  },
  {
   "cell_type": "code",
   "execution_count": null,
   "metadata": {
    "ExecuteTime": {
     "end_time": "2017-11-01T12:32:31.058341Z",
     "start_time": "2017-11-01T12:32:31.053189Z"
    },
    "collapsed": true
   },
   "outputs": [],
   "source": [
    "cnn = sqlite3.connect(\"data\")\n",
    "cur = cnn.cursor()"
   ]
  },
  {
   "cell_type": "code",
   "execution_count": null,
   "metadata": {
    "ExecuteTime": {
     "end_time": "2017-11-01T12:32:32.431931Z",
     "start_time": "2017-11-01T12:32:32.426250Z"
    },
    "collapsed": true
   },
   "outputs": [],
   "source": [
    "def translate(text, dest='ru'):\n",
    "    translator = Translator(service_urls=['translate.google.com'])\n",
    "    return translator.translate(text, dest=dest).text"
   ]
  },
  {
   "cell_type": "code",
   "execution_count": null,
   "metadata": {
    "ExecuteTime": {
     "end_time": "2017-11-01T12:32:33.148420Z",
     "start_time": "2017-11-01T12:32:33.142429Z"
    },
    "collapsed": false
   },
   "outputs": [],
   "source": [
    "def translate_courses(courses):\n",
    "    courses = list(map(lambda x: x[0] + \". \" + x[1], courses))\n",
    "    translated_courses = list(map(lambda x: translate(x[:2900]), tqdm_notebook(courses))) + list(map(lambda x: translate(x[:2900], dest=\"en\"), tqdm_notebook(courses)))\n",
    "    for course in translated_courses:\n",
    "        cur.execute(\"insert into courses (title, text, type, url) values ('{0}', '{1}', '{2}', '{3}')\"\n",
    "                    .format(course.split()[0], course, 'translated', '-'))\n",
    "        cnn.commit()"
   ]
  },
  {
   "cell_type": "code",
   "execution_count": null,
   "metadata": {
    "ExecuteTime": {
     "end_time": "2017-11-01T12:32:33.960980Z",
     "start_time": "2017-11-01T12:32:33.952576Z"
    },
    "collapsed": true
   },
   "outputs": [],
   "source": [
    "def translate_tags(tags):\n",
    "    translate_tags = list(map(lambda x: translate(x), tags))\n",
    "    for tag in translate_tags:\n",
    "        cur.execute(\"insert into tags (text) values ('{0}')\".format(tag))\n",
    "    return translate_tags"
   ]
  },
  {
   "cell_type": "code",
   "execution_count": null,
   "metadata": {
    "ExecuteTime": {
     "end_time": "2017-11-01T12:32:34.814258Z",
     "start_time": "2017-11-01T12:32:34.808996Z"
    },
    "collapsed": true
   },
   "outputs": [],
   "source": [
    "def tags_of_vacancy(vacancy, tags):\n",
    "    tags_of_vacancy = set()\n",
    "    for j in range(len(tags)):\n",
    "        tag = tags[j] if tags[j] != \"c\" and tags[j] != \"с\" else \"&&**^^\"\n",
    "        tag = tag.lower()\n",
    "        if tag in vacancy:\n",
    "            tags_of_vacancy.add(tag)\n",
    "    return tuple(tags_of_vacancy)"
   ]
  },
  {
   "cell_type": "code",
   "execution_count": null,
   "metadata": {
    "ExecuteTime": {
     "end_time": "2017-11-01T12:32:35.636502Z",
     "start_time": "2017-11-01T12:32:35.626277Z"
    },
    "collapsed": true
   },
   "outputs": [],
   "source": [
    "def tags_of_course(course, tags):\n",
    "    tags_of_course = set()\n",
    "    for j in range(len(tags)):\n",
    "        tag = tags[j] if tags[j] != \"c\" and tags[j] != \"с\" else \"&&**^^\"\n",
    "        tag = tag.lower()\n",
    "        if tag in course:\n",
    "            tags_of_course.add(tag)\n",
    "    return list(tags_of_course)"
   ]
  },
  {
   "cell_type": "code",
   "execution_count": null,
   "metadata": {
    "ExecuteTime": {
     "end_time": "2017-11-01T11:57:11.289940Z",
     "start_time": "2017-11-01T11:57:11.271108Z"
    },
    "collapsed": false,
    "scrolled": false
   },
   "outputs": [],
   "source": [
    "courses = cur.execute(\"select * from courses\").fetchall()"
   ]
  },
  {
   "cell_type": "code",
   "execution_count": null,
   "metadata": {
    "ExecuteTime": {
     "end_time": "2017-11-01T11:57:11.858729Z",
     "start_time": "2017-11-01T11:57:11.853064Z"
    },
    "collapsed": true
   },
   "outputs": [],
   "source": [
    "tags = cur.execute(\"select * from tags\").fetchall()"
   ]
  },
  {
   "cell_type": "code",
   "execution_count": null,
   "metadata": {
    "ExecuteTime": {
     "end_time": "2017-11-01T11:43:13.014940Z",
     "start_time": "2017-11-01T11:43:13.007068Z"
    },
    "collapsed": false
   },
   "outputs": [],
   "source": [
    "tags = list(map(lambda x: x[0], tags))\n",
    "courses = list(map(lambda x: x[0] + \". \" + x[1], courses))"
   ]
  },
  {
   "cell_type": "code",
   "execution_count": null,
   "metadata": {
    "ExecuteTime": {
     "end_time": "2017-11-01T11:43:14.937984Z",
     "start_time": "2017-11-01T11:43:14.629547Z"
    },
    "collapsed": false
   },
   "outputs": [],
   "source": [
    "tags_of_courses = [tags_of_course(course, tags) for course in courses]"
   ]
  },
  {
   "cell_type": "code",
   "execution_count": null,
   "metadata": {
    "ExecuteTime": {
     "end_time": "2017-11-01T11:43:15.457276Z",
     "start_time": "2017-11-01T11:43:15.449287Z"
    },
    "collapsed": true
   },
   "outputs": [],
   "source": [
    "Xy = pd.DataFrame()\n",
    "Xy[\"X\"] = courses\n",
    "Xy[\"y\"] = list(map(lambda x: x if len(x) else None, tags_of_courses))\n",
    "Xy = Xy.dropna()"
   ]
  },
  {
   "cell_type": "code",
   "execution_count": null,
   "metadata": {
    "ExecuteTime": {
     "end_time": "2017-11-01T12:41:01.441707Z",
     "start_time": "2017-11-01T12:41:01.426504Z"
    },
    "collapsed": false
   },
   "outputs": [],
   "source": [
    "q = session.query(Vacancy)\n",
    "vdata = session.execute(q).fetchall()"
   ]
  },
  {
   "cell_type": "code",
   "execution_count": null,
   "metadata": {
    "ExecuteTime": {
     "end_time": "2017-11-01T12:11:53.021294Z",
     "start_time": "2017-11-01T12:11:53.009309Z"
    },
    "collapsed": false
   },
   "outputs": [],
   "source": [
    "tof = []\n",
    "for i in tqdm_notebook(range(len(texts))):\n",
    "    tof.append(tags_of_vacancy(texts[i], tags))"
   ]
  },
  {
   "cell_type": "code",
   "execution_count": null,
   "metadata": {
    "collapsed": true
   },
   "outputs": [],
   "source": []
  }
 ],
 "metadata": {
  "kernelspec": {
   "display_name": "Python 3",
   "language": "python",
   "name": "python3"
  },
  "language_info": {
   "codemirror_mode": {
    "name": "ipython",
    "version": 3
   },
   "file_extension": ".py",
   "mimetype": "text/x-python",
   "name": "python",
   "nbconvert_exporter": "python",
   "pygments_lexer": "ipython3",
   "version": "3.6.0"
  }
 },
 "nbformat": 4,
 "nbformat_minor": 2
}
