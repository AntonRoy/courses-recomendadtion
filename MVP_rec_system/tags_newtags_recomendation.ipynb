{
 "cells": [
  {
   "cell_type": "code",
   "execution_count": 1,
   "metadata": {
    "ExecuteTime": {
     "end_time": "2017-11-03T16:41:21.284380Z",
     "start_time": "2017-11-03T16:41:20.921380Z"
    },
    "collapsed": false
   },
   "outputs": [],
   "source": [
    "import sqlalchemy\n",
    "from sqlalchemy.orm import sessionmaker, scoped_session, relationship, validates\n",
    "from sqlalchemy.ext.declarative import declarative_base\n",
    "from sqlalchemy import Table, String, Integer, Column, Date, Boolean, sql\n",
    "from sqlalchemy.schema import ForeignKey, PrimaryKeyConstraint\n",
    "from sqlalchemy.dialects import postgresql\n",
    "from functools import partial\n",
    "import requests\n",
    "from bs4 import BeautifulSoup\n",
    "from tqdm import tqdm\n",
    "import mozilla_headers\n",
    "from tqdm import tqdm_notebook\n",
    "import numpy as np\n",
    "import pandas as pd\n",
    "import sqlite3"
   ]
  },
  {
   "cell_type": "code",
   "execution_count": 2,
   "metadata": {
    "ExecuteTime": {
     "end_time": "2017-11-03T16:41:21.287813Z",
     "start_time": "2017-11-03T16:41:21.285681Z"
    },
    "collapsed": true
   },
   "outputs": [],
   "source": [
    "cnn = sqlite3.connect(\"data\")\n",
    "cur = cnn.cursor()"
   ]
  },
  {
   "cell_type": "code",
   "execution_count": 3,
   "metadata": {
    "ExecuteTime": {
     "end_time": "2017-11-03T16:41:21.861607Z",
     "start_time": "2017-11-03T16:41:21.857249Z"
    },
    "collapsed": true
   },
   "outputs": [],
   "source": [
    "Column = partial(Column, nullable=False)"
   ]
  },
  {
   "cell_type": "code",
   "execution_count": 4,
   "metadata": {
    "ExecuteTime": {
     "end_time": "2017-11-03T16:41:22.097650Z",
     "start_time": "2017-11-03T16:41:22.089671Z"
    },
    "collapsed": true
   },
   "outputs": [],
   "source": [
    "def get_connector():\n",
    "    url = 'postgresql+psycopg2://{}:{}@{}:{}/{}'\n",
    "    url = url.format(\"postgres\", \n",
    "                     \"12404888\", \n",
    "                     \"127.0.0.1\", \"5434\", \n",
    "                     \"headhunter5\")\n",
    "    con = sqlalchemy.create_engine(url, client_encoding='utf8', server_side_cursors=True, echo=False)\n",
    "    return con"
   ]
  },
  {
   "cell_type": "code",
   "execution_count": 5,
   "metadata": {
    "ExecuteTime": {
     "end_time": "2017-11-03T16:41:22.348585Z",
     "start_time": "2017-11-03T16:41:22.306035Z"
    },
    "collapsed": true
   },
   "outputs": [],
   "source": [
    "con = get_connector().execution_options(stream_results=True)\n",
    "\n",
    "session_factory = sessionmaker(bind=con)\n",
    "Session = scoped_session(session_factory)\n",
    "# TODO: Might be a good idea to remove in the future and switch to dynamic `Session()` calls entirely while instantiating `DBOps`.\n",
    "session = Session() # the default one. Not thread-safe."
   ]
  },
  {
   "cell_type": "code",
   "execution_count": 6,
   "metadata": {
    "ExecuteTime": {
     "end_time": "2017-11-03T16:41:22.587554Z",
     "start_time": "2017-11-03T16:41:22.583163Z"
    },
    "collapsed": true
   },
   "outputs": [],
   "source": [
    "Base = declarative_base(bind=con)"
   ]
  },
  {
   "cell_type": "code",
   "execution_count": 7,
   "metadata": {
    "ExecuteTime": {
     "end_time": "2017-11-03T16:41:22.932055Z",
     "start_time": "2017-11-03T16:41:22.922073Z"
    },
    "collapsed": true
   },
   "outputs": [],
   "source": [
    "class Raw(Base):\n",
    "    __tablename__ = 'raw_html'\n",
    "\n",
    "    id = Column(Integer, primary_key=True, autoincrement=True)\n",
    "    html = Column(String)\n",
    "    when_parsed = Column(Date, server_default=sql.functions.current_date(), onupdate=sql.functions.current_date())\n",
    "    is_archived = Column(Boolean, nullable=True) # null if failed to fetch\n",
    "    when_closed = Column(Date, nullable=True) # null if failed to fetch\n",
    "    http_errcode = Column(Integer, nullable=True) # null if fetch successful"
   ]
  },
  {
   "cell_type": "code",
   "execution_count": 8,
   "metadata": {
    "ExecuteTime": {
     "end_time": "2017-11-03T16:41:23.264692Z",
     "start_time": "2017-11-03T16:41:23.255702Z"
    },
    "collapsed": true
   },
   "outputs": [],
   "source": [
    "raw = Raw.__table__ # backwards compat\n",
    "\n",
    "vacancies_skills = Table('vacancies_skills', Base.metadata,\n",
    "    Column('vacancy_id', Integer, ForeignKey('vacancies.id')),\n",
    "    Column('skill_id', Integer, ForeignKey('skills.id')),\n",
    "    PrimaryKeyConstraint('vacancy_id', 'skill_id'),\n",
    ")"
   ]
  },
  {
   "cell_type": "code",
   "execution_count": 9,
   "metadata": {
    "ExecuteTime": {
     "end_time": "2017-11-03T16:41:23.561046Z",
     "start_time": "2017-11-03T16:41:23.539956Z"
    },
    "collapsed": true
   },
   "outputs": [],
   "source": [
    "class Vacancy(Base):\n",
    "    __tablename__ = 'vacancies'\n",
    "    \n",
    "    id = Column(Integer, primary_key=True, autoincrement=True)\n",
    "    raw_id = Column(Integer, sqlalchemy.schema.ForeignKey(\"raw_html.id\"))\n",
    "    open_time = Column(Date)\n",
    "    text = Column(String)\n",
    "    salary = Column(Integer)\n",
    "    skills = relationship(\n",
    "        \"Skill\",\n",
    "        secondary='vacancies_skills',\n",
    "        back_populates=\"vacancies\")\n",
    "    \n",
    "    def __repr__(self):\n",
    "        return 'Vacancy<{}>'.format(', '.join((\n",
    "            '{}...'.format(self.text[:50]),\n",
    "            '{}'.format(self.open_time.isoformat()),\n",
    "            '{} $'.format(self.salary),\n",
    "        )))"
   ]
  },
  {
   "cell_type": "code",
   "execution_count": 10,
   "metadata": {
    "ExecuteTime": {
     "end_time": "2017-11-03T16:41:23.821607Z",
     "start_time": "2017-11-03T16:41:23.807106Z"
    },
    "collapsed": true
   },
   "outputs": [],
   "source": [
    "class Skill(Base):\n",
    "    __tablename__ = 'skills'\n",
    "    \n",
    "    id = Column(Integer, primary_key=True, autoincrement=True)\n",
    "    skill = Column(postgresql.JSONB(none_as_null=True), unique=True)\n",
    "    vacancies = relationship(\n",
    "        \"Vacancy\",\n",
    "        secondary='vacancies_skills',\n",
    "        back_populates=\"skills\")\n",
    "    unique_skill_id = Column(Integer, ForeignKey('unique_skills.id', ondelete=\"SET NULL\"), nullable=True)\n",
    "    unique_skill = relationship(\"UniqueSkill\", uselist=False, back_populates=\"skills\")\n",
    "    skill_vector = relationship(\"SkillVector\", uselist=False, back_populates=\"skill\")\n",
    "\n",
    "    # FIXME: make it impossible to create a skill not associated with a vacancy\n",
    "    #@validates('vacancies')\n",
    "    #def validate_vacancies(self, key, vacancies):\n",
    "    #    assert len(vacancies) > 0\n",
    "    #    return vacancies\n",
    "    \n",
    "    def __repr__(self):\n",
    "        return 'Skill<{}>'.format(', '.join((\n",
    "            '{}'.format(' '.join(self.skill)),\n",
    "            str(self.unique_skill_id),\n",
    "            'V+' if self.skill_vector else 'V-',\n",
    "        )))"
   ]
  },
  {
   "cell_type": "code",
   "execution_count": 11,
   "metadata": {
    "ExecuteTime": {
     "end_time": "2017-11-03T16:41:24.146764Z",
     "start_time": "2017-11-03T16:41:24.139625Z"
    },
    "collapsed": true
   },
   "outputs": [],
   "source": [
    "class SkillVector(Base):\n",
    "    __tablename__ = 'skillvectors'\n",
    "\n",
    "    id = Column(Integer, ForeignKey('skills.id'), primary_key=True)\n",
    "    vector = Column(postgresql.ARRAY(postgresql.DOUBLE_PRECISION))\n",
    "    skill = relationship(\"Skill\", back_populates=\"skill_vector\")"
   ]
  },
  {
   "cell_type": "code",
   "execution_count": 12,
   "metadata": {
    "ExecuteTime": {
     "end_time": "2017-11-03T16:41:24.499165Z",
     "start_time": "2017-11-03T16:41:24.484852Z"
    },
    "collapsed": true
   },
   "outputs": [],
   "source": [
    "class UniqueSkill(Base):\n",
    "    # aka USkill\n",
    "    __tablename__ = 'unique_skills'\n",
    "    \n",
    "    id = Column(Integer, primary_key=True, autoincrement=True)\n",
    "    skills = relationship(\"Skill\", back_populates=\"unique_skill\")\n",
    "    price = Column(Integer, nullable=True) # null if not calculated yet (price calc happens after merging into uskills)\n",
    "    \n",
    "    def __repr__(self):\n",
    "        return 'UniqueSkill<{}>'.format(',\\n'.join(map(str, self.skills)))"
   ]
  },
  {
   "cell_type": "code",
   "execution_count": 13,
   "metadata": {
    "ExecuteTime": {
     "end_time": "2017-11-03T16:41:24.800527Z",
     "start_time": "2017-11-03T16:41:24.798023Z"
    },
    "collapsed": true
   },
   "outputs": [],
   "source": [
    "def translate(text, dest='ru'):\n",
    "    translator = Translator(service_urls=['translate.google.com'])\n",
    "    return translator.translate(text, dest=dest).text"
   ]
  },
  {
   "cell_type": "code",
   "execution_count": 14,
   "metadata": {
    "ExecuteTime": {
     "end_time": "2017-11-03T16:41:25.113443Z",
     "start_time": "2017-11-03T16:41:25.106453Z"
    },
    "collapsed": true
   },
   "outputs": [],
   "source": [
    "def translate_courses(courses):\n",
    "    courses = list(map(lambda x: x[0] + \". \" + x[1], courses))\n",
    "    translated_courses = list(map(lambda x: translate(x[:2900]), tqdm_notebook(courses))) + list(map(lambda x: translate(x[:2900], dest=\"en\"), tqdm_notebook(courses)))\n",
    "    for course in translated_courses:\n",
    "        cur.execute(\"insert into courses (title, text, type, url) values ('{0}', '{1}', '{2}', '{3}')\"\n",
    "                    .format(course.split()[0], course, 'translated', '-'))\n",
    "        cnn.commit()"
   ]
  },
  {
   "cell_type": "code",
   "execution_count": 15,
   "metadata": {
    "ExecuteTime": {
     "end_time": "2017-11-03T16:41:25.429863Z",
     "start_time": "2017-11-03T16:41:25.422451Z"
    },
    "collapsed": true
   },
   "outputs": [],
   "source": [
    "def translate_tags(tags):\n",
    "    translate_tags = list(map(lambda x: translate(x), tags))\n",
    "    for tag in translate_tags:\n",
    "        cur.execute(\"insert into tags (text) values ('{0}')\".format(tag))\n",
    "    return translate_tags"
   ]
  },
  {
   "cell_type": "code",
   "execution_count": 16,
   "metadata": {
    "ExecuteTime": {
     "end_time": "2017-11-03T16:41:25.745588Z",
     "start_time": "2017-11-03T16:41:25.739090Z"
    },
    "collapsed": true
   },
   "outputs": [],
   "source": [
    "def tags_of_vacancy(vacancy, tags):\n",
    "    tags_of_vacancy = set()\n",
    "    for j in range(len(tags)):\n",
    "        tag = tags[j] if tags[j] != \"c\" and tags[j] != \"с\" else \"&&**^^\"\n",
    "        tag = tag.lower()\n",
    "        if tag in vacancy:\n",
    "            tags_of_vacancy.add(tag)\n",
    "    return tuple(tags_of_vacancy)"
   ]
  },
  {
   "cell_type": "code",
   "execution_count": 17,
   "metadata": {
    "ExecuteTime": {
     "end_time": "2017-11-03T16:41:26.053944Z",
     "start_time": "2017-11-03T16:41:26.043774Z"
    },
    "collapsed": true
   },
   "outputs": [],
   "source": [
    "def tags_of_course(course, tags):\n",
    "    tags_of_course = set()\n",
    "    for j in range(len(tags)):\n",
    "        tag = tags[j] if tags[j] != \"c\" and tags[j] != \"с\" else \"&&**^^\"\n",
    "        tag = tag.lower()\n",
    "        if tag in course:\n",
    "            tags_of_course.add(tag)\n",
    "    return list(tags_of_course)"
   ]
  },
  {
   "cell_type": "code",
   "execution_count": 18,
   "metadata": {
    "ExecuteTime": {
     "end_time": "2017-11-03T16:41:33.433754Z",
     "start_time": "2017-11-03T16:41:26.406645Z"
    },
    "collapsed": false
   },
   "outputs": [],
   "source": [
    "vdata = session.execute(session.query(Vacancy)).fetchall()"
   ]
  },
  {
   "cell_type": "code",
   "execution_count": 19,
   "metadata": {
    "ExecuteTime": {
     "end_time": "2017-11-03T16:41:33.657559Z",
     "start_time": "2017-11-03T16:41:33.437108Z"
    },
    "collapsed": false
   },
   "outputs": [],
   "source": [
    "ids = list(map(lambda x: x[0], vdata))\n",
    "texts = list(map(lambda x: x[3], vdata))"
   ]
  },
  {
   "cell_type": "code",
   "execution_count": 20,
   "metadata": {
    "ExecuteTime": {
     "end_time": "2017-11-03T16:41:33.661556Z",
     "start_time": "2017-11-03T16:41:33.658896Z"
    },
    "collapsed": false
   },
   "outputs": [],
   "source": [
    "tags = list(set(list(map(lambda x: x[0], cur.execute(\"select * from tags\").fetchall()))))"
   ]
  },
  {
   "cell_type": "code",
   "execution_count": 21,
   "metadata": {
    "ExecuteTime": {
     "end_time": "2017-11-03T16:41:33.727945Z",
     "start_time": "2017-11-03T16:41:33.662932Z"
    },
    "collapsed": false
   },
   "outputs": [],
   "source": [
    "tags.append(\"C++\")\n",
    "tags = list(set(list(map(lambda x: x.lower(), tags))))"
   ]
  },
  {
   "cell_type": "code",
   "execution_count": 22,
   "metadata": {
    "ExecuteTime": {
     "end_time": "2017-11-03T16:42:45.937188Z",
     "start_time": "2017-11-03T16:41:33.730199Z"
    },
    "collapsed": false
   },
   "outputs": [
    {
     "name": "stdout",
     "output_type": "stream",
     "text": [
      "\n"
     ]
    }
   ],
   "source": [
    "tof = []\n",
    "for i in tqdm_notebook(range(len(texts))):\n",
    "    tof.append(tags_of_vacancy(texts[i], tags))"
   ]
  },
  {
   "cell_type": "code",
   "execution_count": 23,
   "metadata": {
    "ExecuteTime": {
     "end_time": "2017-11-03T16:42:46.414499Z",
     "start_time": "2017-11-03T16:42:45.938365Z"
    },
    "collapsed": false
   },
   "outputs": [],
   "source": [
    "Xy1 = pd.DataFrame()\n",
    "Xy1['text'] = texts\n",
    "Xy1['tags'] = list(map(lambda x: x if len(x) else None, tof))\n",
    "Xy1 = Xy1.dropna()"
   ]
  },
  {
   "cell_type": "code",
   "execution_count": 24,
   "metadata": {
    "ExecuteTime": {
     "end_time": "2017-11-03T16:42:46.438066Z",
     "start_time": "2017-11-03T16:42:46.416275Z"
    },
    "collapsed": true
   },
   "outputs": [],
   "source": [
    "courses = cur.execute(\"select * from courses\").fetchall()\n",
    "courses = list(map(lambda x: x[0] + \". \" + x[1], courses))"
   ]
  },
  {
   "cell_type": "code",
   "execution_count": 25,
   "metadata": {
    "ExecuteTime": {
     "end_time": "2017-11-03T16:42:46.811763Z",
     "start_time": "2017-11-03T16:42:46.439532Z"
    },
    "collapsed": false
   },
   "outputs": [],
   "source": [
    "tags_of_courses = [tags_of_course(course, tags) for course in courses]"
   ]
  },
  {
   "cell_type": "code",
   "execution_count": 26,
   "metadata": {
    "ExecuteTime": {
     "end_time": "2017-11-03T16:42:46.924934Z",
     "start_time": "2017-11-03T16:42:46.813188Z"
    },
    "collapsed": true
   },
   "outputs": [],
   "source": [
    "Xy = pd.DataFrame()\n",
    "Xy[\"X\"] = courses\n",
    "Xy[\"y\"] = list(map(lambda x: x if len(x) else None, tags_of_courses))\n",
    "Xy = Xy.dropna()"
   ]
  },
  {
   "cell_type": "code",
   "execution_count": 27,
   "metadata": {
    "ExecuteTime": {
     "end_time": "2017-11-03T16:42:47.022502Z",
     "start_time": "2017-11-03T16:42:46.927088Z"
    },
    "collapsed": false
   },
   "outputs": [],
   "source": [
    "Xy = np.array(Xy)\n",
    "Xy1 = np.array(Xy1)"
   ]
  },
  {
   "cell_type": "code",
   "execution_count": 28,
   "metadata": {
    "ExecuteTime": {
     "end_time": "2017-11-03T16:42:47.347111Z",
     "start_time": "2017-11-03T16:42:47.025114Z"
    },
    "collapsed": false
   },
   "outputs": [
    {
     "name": "stdout",
     "output_type": "stream",
     "text": [
      "\n",
      "\n"
     ]
    }
   ],
   "source": [
    "Xy_courses = np.array(list(map(lambda x: [x[0], set(x[1])], tqdm_notebook(Xy))))\n",
    "Xy_vacancy = np.array(list(map(lambda x: [x[0], set(x[1])], tqdm_notebook(Xy1))))"
   ]
  },
  {
   "cell_type": "code",
   "execution_count": 29,
   "metadata": {
    "ExecuteTime": {
     "end_time": "2017-11-03T16:42:47.422332Z",
     "start_time": "2017-11-03T16:42:47.348287Z"
    },
    "collapsed": false
   },
   "outputs": [
    {
     "data": {
      "text/plain": [
       "((1359, 2), (43583, 2))"
      ]
     },
     "execution_count": 29,
     "metadata": {},
     "output_type": "execute_result"
    }
   ],
   "source": [
    "Xy_courses.shape, Xy_vacancy.shape"
   ]
  },
  {
   "cell_type": "code",
   "execution_count": 30,
   "metadata": {
    "ExecuteTime": {
     "end_time": "2017-11-03T10:28:41.974952Z",
     "start_time": "2017-11-03T10:28:37.712491Z"
    },
    "collapsed": true
   },
   "outputs": [],
   "source": [
    "matrix = np.array([np.array([0 for i in range(len(Xy_courses))]) for j in range(len(Xy_vacancy))])"
   ]
  },
  {
   "cell_type": "code",
   "execution_count": 31,
   "metadata": {
    "ExecuteTime": {
     "end_time": "2017-11-03T10:29:32.412781Z",
     "start_time": "2017-11-03T10:28:41.977031Z"
    },
    "collapsed": false
   },
   "outputs": [
    {
     "name": "stdout",
     "output_type": "stream",
     "text": [
      "\n"
     ]
    }
   ],
   "source": [
    "for i in tqdm_notebook(range(len(Xy_vacancy))):\n",
    "    for j in range(len(Xy_courses)):\n",
    "        matrix[i][j] = len(Xy_courses[j][1] & Xy_vacancy[i][1])"
   ]
  },
  {
   "cell_type": "code",
   "execution_count": 32,
   "metadata": {
    "ExecuteTime": {
     "end_time": "2017-11-03T10:29:36.584179Z",
     "start_time": "2017-11-03T10:29:32.413966Z"
    },
    "collapsed": true
   },
   "outputs": [],
   "source": [
    "matrix_norm = np.array([np.array([0 for i in range(len(Xy_courses))]) for j in range(len(Xy_vacancy))])"
   ]
  },
  {
   "cell_type": "code",
   "execution_count": 34,
   "metadata": {
    "ExecuteTime": {
     "end_time": "2017-11-03T10:32:00.065298Z",
     "start_time": "2017-11-03T10:30:31.094401Z"
    },
    "collapsed": false
   },
   "outputs": [
    {
     "name": "stdout",
     "output_type": "stream",
     "text": [
      "21153/|/ 49%|| 21153/43583 [01:10<01:14, 302.04it/s]\n",
      "\n"
     ]
    }
   ],
   "source": [
    "for i in tqdm_notebook(range(len(Xy_vacancy))):\n",
    "    for j in range(len(Xy_courses)):\n",
    "        matrix_norm[i][j] = len(Xy_courses[j][1] & Xy_vacancy[i][1]) / len(Xy_courses[j][1] | Xy_vacancy[i][1])"
   ]
  },
  {
   "cell_type": "code",
   "execution_count": 35,
   "metadata": {
    "ExecuteTime": {
     "end_time": "2017-11-03T10:32:00.875255Z",
     "start_time": "2017-11-03T10:32:00.066666Z"
    },
    "collapsed": false
   },
   "outputs": [],
   "source": [
    "from scipy.sparse.linalg import svds\n",
    "from scipy.sparse import csr_matrix"
   ]
  },
  {
   "cell_type": "code",
   "execution_count": 36,
   "metadata": {
    "ExecuteTime": {
     "end_time": "2017-11-03T10:32:24.116665Z",
     "start_time": "2017-11-03T10:32:00.877959Z"
    },
    "collapsed": false
   },
   "outputs": [],
   "source": [
    "matrix = pd.DataFrame(list(matrix))"
   ]
  },
  {
   "cell_type": "code",
   "execution_count": 74,
   "metadata": {
    "ExecuteTime": {
     "end_time": "2017-11-02T11:55:51.277787Z",
     "start_time": "2017-11-02T11:55:51.273410Z"
    },
    "collapsed": true
   },
   "outputs": [],
   "source": [
    "matrix = matrix.as_matrix()"
   ]
  },
  {
   "cell_type": "code",
   "execution_count": 100,
   "metadata": {
    "ExecuteTime": {
     "end_time": "2017-11-02T12:02:42.944512Z",
     "start_time": "2017-11-02T12:02:41.822823Z"
    },
    "collapsed": false
   },
   "outputs": [],
   "source": [
    "U, d, Vt = svds(matrix_norm.astype(float))\n",
    "d = np.diag(d)"
   ]
  },
  {
   "cell_type": "code",
   "execution_count": 113,
   "metadata": {
    "ExecuteTime": {
     "end_time": "2017-11-02T12:03:25.942937Z",
     "start_time": "2017-11-02T12:03:25.861554Z"
    },
    "collapsed": false
   },
   "outputs": [
    {
     "data": {
      "text/plain": [
       "290"
      ]
     },
     "execution_count": 113,
     "metadata": {},
     "output_type": "execute_result"
    }
   ],
   "source": [
    "np.dot(np.dot(U, d), Vt)[6000].argmax()"
   ]
  },
  {
   "cell_type": "code",
   "execution_count": 30,
   "metadata": {
    "ExecuteTime": {
     "end_time": "2017-11-03T11:48:13.427877Z",
     "start_time": "2017-11-03T11:48:13.224638Z"
    },
    "collapsed": false
   },
   "outputs": [],
   "source": [
    "vacancy = pd.DataFrame()\n",
    "vacancy['text'] = texts"
   ]
  },
  {
   "cell_type": "code",
   "execution_count": 31,
   "metadata": {
    "ExecuteTime": {
     "end_time": "2017-11-03T11:48:13.460052Z",
     "start_time": "2017-11-03T11:48:13.429961Z"
    },
    "collapsed": false
   },
   "outputs": [],
   "source": [
    "c = pd.DataFrame()\n",
    "courses = cur.execute(\"select * from courses\").fetchall()\n",
    "c['text'] = [courses[i][0] + \". \" + courses[i][1] for i in range(len(courses))]\n",
    "c['type'] = [courses[i][2] for i in range(len(courses))]\n",
    "c['url'] = [courses[i][3] for i in range(len(courses))]\n",
    "courses = c"
   ]
  },
  {
   "cell_type": "code",
   "execution_count": 32,
   "metadata": {
    "ExecuteTime": {
     "end_time": "2017-11-03T11:48:13.512617Z",
     "start_time": "2017-11-03T11:48:13.461636Z"
    },
    "collapsed": false
   },
   "outputs": [
    {
     "data": {
      "text/plain": [
       "((841447, 1), (2381, 3))"
      ]
     },
     "execution_count": 32,
     "metadata": {},
     "output_type": "execute_result"
    }
   ],
   "source": [
    "vacancy.shape, courses.shape"
   ]
  },
  {
   "cell_type": "markdown",
   "metadata": {
    "collapsed": true
   },
   "source": [
    "### New tags"
   ]
  },
  {
   "cell_type": "code",
   "execution_count": 30,
   "metadata": {
    "ExecuteTime": {
     "end_time": "2017-11-03T16:43:00.108738Z",
     "start_time": "2017-11-03T16:42:47.424673Z"
    },
    "collapsed": false
   },
   "outputs": [
    {
     "name": "stderr",
     "output_type": "stream",
     "text": [
      "Using TensorFlow backend.\n"
     ]
    }
   ],
   "source": [
    "import gensim\n",
    "import pymorphy2"
   ]
  },
  {
   "cell_type": "code",
   "execution_count": 31,
   "metadata": {
    "ExecuteTime": {
     "end_time": "2017-11-03T16:43:00.114351Z",
     "start_time": "2017-11-03T16:43:00.109917Z"
    },
    "collapsed": true
   },
   "outputs": [],
   "source": [
    "import string\n",
    "from googletrans import Translator\n",
    "translator = Translator(service_urls=['translate.google.com'])"
   ]
  },
  {
   "cell_type": "code",
   "execution_count": 32,
   "metadata": {
    "ExecuteTime": {
     "end_time": "2017-11-03T16:43:29.551026Z",
     "start_time": "2017-11-03T16:43:00.115255Z"
    },
    "collapsed": false
   },
   "outputs": [],
   "source": [
    "w2v = gensim.models.KeyedVectors.load_word2vec_format('GoogleNews-vectors-negative300.bin', binary=True)\n",
    "morph = pymorphy2.MorphAnalyzer()"
   ]
  },
  {
   "cell_type": "code",
   "execution_count": 33,
   "metadata": {
    "ExecuteTime": {
     "end_time": "2017-11-03T16:43:29.557546Z",
     "start_time": "2017-11-03T16:43:29.552320Z"
    },
    "collapsed": true
   },
   "outputs": [],
   "source": [
    "def avg_feature_vector(words, num_features):\n",
    "    global w2v\n",
    "    model = w2v\n",
    "    featureVec = np.zeros((num_features,), dtype=\"float32\")\n",
    "    nwords = 0\n",
    "\n",
    "    for word in words:\n",
    "        nwords = nwords + 1\n",
    "        try:\n",
    "            featureVec = np.add(featureVec, model[word])\n",
    "        except KeyError:\n",
    "            featureVec = np.add(featureVec, np.zeros(num_features))\n",
    "\n",
    "    if (nwords > 0):\n",
    "        featureVec = np.divide(featureVec, nwords)\n",
    "    return featureVec"
   ]
  },
  {
   "cell_type": "code",
   "execution_count": 34,
   "metadata": {
    "ExecuteTime": {
     "end_time": "2017-11-03T16:43:29.787389Z",
     "start_time": "2017-11-03T16:43:29.558823Z"
    },
    "collapsed": true
   },
   "outputs": [],
   "source": [
    "def normalize_form(txt):\n",
    "    global morph\n",
    "    p = [morph.parse(x)[0].normal_form for x in txt]\n",
    "    return p"
   ]
  },
  {
   "cell_type": "code",
   "execution_count": 35,
   "metadata": {
    "ExecuteTime": {
     "end_time": "2017-11-03T16:43:29.853108Z",
     "start_time": "2017-11-03T16:43:29.789746Z"
    },
    "collapsed": true
   },
   "outputs": [],
   "source": [
    "def make_dict(x):\n",
    "    dict_rus = ' '.join(x)\n",
    "    translator = str.maketrans({key: ' ' for key in string.punctuation.replace('/', '').replace('-', '') + string.digits + '№'})\n",
    "    dict_rus = dict_rus.translate(translator).lower()\n",
    "    dict_rus_split = dict_rus.split()\n",
    "    return dict_rus_split"
   ]
  },
  {
   "cell_type": "code",
   "execution_count": 36,
   "metadata": {
    "ExecuteTime": {
     "end_time": "2017-11-03T16:43:29.919717Z",
     "start_time": "2017-11-03T16:43:29.855498Z"
    },
    "collapsed": true
   },
   "outputs": [],
   "source": [
    "def words2vecs(arr):\n",
    "    arr = list(map(lambda x: x.split(), arr))\n",
    "    arr = [normalize_form(make_dict(new)) for new in arr]\n",
    "    arr = [avg_feature_vector(sent, 300) for sent in list(arr)]\n",
    "    return np.array(arr)"
   ]
  },
  {
   "cell_type": "code",
   "execution_count": 37,
   "metadata": {
    "ExecuteTime": {
     "end_time": "2017-11-03T16:43:29.994634Z",
     "start_time": "2017-11-03T16:43:29.922037Z"
    },
    "collapsed": true
   },
   "outputs": [],
   "source": [
    "def translate(text, dest='ru'):\n",
    "    global translator\n",
    "    return translator.translate(text, dest=dest).text"
   ]
  },
  {
   "cell_type": "code",
   "execution_count": 38,
   "metadata": {
    "ExecuteTime": {
     "end_time": "2017-11-03T16:43:30.069765Z",
     "start_time": "2017-11-03T16:43:29.997005Z"
    },
    "collapsed": false
   },
   "outputs": [],
   "source": [
    "nvec = words2vecs(['requirements'])[0]"
   ]
  },
  {
   "cell_type": "code",
   "execution_count": 39,
   "metadata": {
    "ExecuteTime": {
     "end_time": "2017-11-03T16:43:30.187590Z",
     "start_time": "2017-11-03T16:43:30.072044Z"
    },
    "collapsed": false
   },
   "outputs": [
    {
     "ename": "NameError",
     "evalue": "name 'vacancy' is not defined",
     "output_type": "error",
     "traceback": [
      "\u001b[0;31m---------------------------------------------------------------------------\u001b[0m",
      "\u001b[0;31mNameError\u001b[0m                                 Traceback (most recent call last)",
      "\u001b[0;32m<ipython-input-39-3eee331c3168>\u001b[0m in \u001b[0;36m<module>\u001b[0;34m()\u001b[0m\n\u001b[0;32m----> 1\u001b[0;31m \u001b[0mvacancy\u001b[0m\u001b[0;34m[\u001b[0m\u001b[0;34m'text'\u001b[0m\u001b[0;34m]\u001b[0m \u001b[0;34m=\u001b[0m \u001b[0mlist\u001b[0m\u001b[0;34m(\u001b[0m\u001b[0mmap\u001b[0m\u001b[0;34m(\u001b[0m\u001b[0;32mlambda\u001b[0m \u001b[0mx\u001b[0m\u001b[0;34m:\u001b[0m \u001b[0mx\u001b[0m\u001b[0;34m.\u001b[0m\u001b[0mlower\u001b[0m\u001b[0;34m(\u001b[0m\u001b[0;34m)\u001b[0m\u001b[0;34m.\u001b[0m\u001b[0mreplace\u001b[0m\u001b[0;34m(\u001b[0m\u001b[0;34m'\\n'\u001b[0m\u001b[0;34m,\u001b[0m \u001b[0;34m' '\u001b[0m\u001b[0;34m)\u001b[0m\u001b[0;34m,\u001b[0m \u001b[0mtqdm_notebook\u001b[0m\u001b[0;34m(\u001b[0m\u001b[0mvacancy\u001b[0m\u001b[0;34m[\u001b[0m\u001b[0;34m'text'\u001b[0m\u001b[0;34m]\u001b[0m\u001b[0;34m)\u001b[0m\u001b[0;34m)\u001b[0m\u001b[0;34m)\u001b[0m\u001b[0;34m\u001b[0m\u001b[0m\n\u001b[0m",
      "\u001b[0;31mNameError\u001b[0m: name 'vacancy' is not defined"
     ]
    }
   ],
   "source": [
    "vacancy['text'] = list(map(lambda x: x.lower().replace('\\n', ' '), tqdm_notebook(vacancy['text'])))"
   ]
  },
  {
   "cell_type": "code",
   "execution_count": null,
   "metadata": {
    "ExecuteTime": {
     "end_time": "2017-11-03T16:43:30.187916Z",
     "start_time": "2017-11-03T13:41:48.823Z"
    },
    "collapsed": false
   },
   "outputs": [],
   "source": [
    "len(vacancy['text'][883])"
   ]
  },
  {
   "cell_type": "code",
   "execution_count": null,
   "metadata": {
    "ExecuteTime": {
     "end_time": "2017-11-03T16:43:30.188117Z",
     "start_time": "2017-11-03T13:41:55.426Z"
    },
    "collapsed": true
   },
   "outputs": [],
   "source": [
    "texts = vacancy['text']"
   ]
  },
  {
   "cell_type": "code",
   "execution_count": null,
   "metadata": {
    "ExecuteTime": {
     "start_time": "2017-11-03T08:54:25.875Z"
    },
    "collapsed": false,
    "scrolled": true
   },
   "outputs": [
    {
     "name": "stdout",
     "output_type": "stream",
     "text": [
      "1\n",
      "98\n",
      "198\n",
      "296\n",
      "395\n",
      "494\n",
      "593\n",
      "692\n",
      "791\n",
      "886\n",
      "985\n",
      "1084\n",
      "1180\n",
      "1279\n",
      "1379\n",
      "1479\n",
      "1578\n",
      "1677\n",
      "1776\n",
      "1876\n",
      "1974\n",
      "2073\n",
      "2172\n",
      "2272\n",
      "2371\n",
      "2471\n",
      "2570\n",
      "2667\n",
      "2765\n",
      "2862\n",
      "2962\n",
      "3062\n",
      "3160\n",
      "3259\n",
      "3356\n",
      "3455\n",
      "3554\n",
      "3654\n",
      "3753\n",
      "3853\n",
      "3953\n",
      "4053\n",
      "4151\n",
      "4250\n",
      "4349\n",
      "4449\n",
      "4549\n",
      "4646\n",
      "4746\n",
      "4846\n",
      "4946\n",
      "5045\n",
      "5142\n",
      "5241\n",
      "5341\n",
      "5441\n",
      "5540\n",
      "5638\n",
      "5737\n",
      "5837\n",
      "5936\n",
      "6035\n",
      "6134\n",
      "6233\n",
      "6333\n",
      "6433\n",
      "6533\n",
      "6633\n",
      "6733\n",
      "6832\n",
      "6925\n",
      "7025\n",
      "7125\n",
      "7225\n",
      "7325\n",
      "7423\n",
      "7521\n",
      "7620\n",
      "7719\n",
      "7819\n",
      "7917\n",
      "8016\n",
      "8114\n",
      "8214\n",
      "8314\n",
      "8414\n",
      "8514\n",
      "8613\n",
      "8713\n",
      "8813\n",
      "8912\n",
      "9012\n",
      "9112\n",
      "9212\n",
      "9311\n",
      "9411\n",
      "9510\n",
      "9610\n",
      "9709\n",
      "9809\n",
      "9908\n",
      "10008\n",
      "10108\n",
      "10208\n",
      "10308\n",
      "10408\n",
      "10508\n",
      "10605\n",
      "10704\n",
      "10804\n",
      "10903\n",
      "11001\n",
      "11097\n",
      "11185\n",
      "11280\n",
      "11377\n",
      "11476\n",
      "11574\n",
      "11672\n",
      "11770\n",
      "11870\n",
      "11970\n",
      "12069\n",
      "12167\n",
      "12266\n",
      "12366\n",
      "12466\n",
      "12566\n",
      "12665\n",
      "12763\n",
      "12861\n",
      "12959\n",
      "13055\n",
      "13155\n",
      "14152\n",
      "14251\n",
      "14351\n",
      "14450\n",
      "14550\n",
      "14649\n",
      "14748\n",
      "14848\n",
      "14948\n",
      "15048\n",
      "15148\n",
      "15246\n",
      "15344\n",
      "15444\n",
      "15543\n",
      "15643\n",
      "15743\n",
      "15841\n",
      "15941\n",
      "16040\n",
      "16137\n",
      "16236\n",
      "16335\n",
      "16434\n",
      "16534\n",
      "16633\n",
      "16731\n",
      "16831\n",
      "16929\n",
      "17026\n",
      "17125\n",
      "17220\n",
      "17317\n",
      "17417\n",
      "17517\n",
      "17617\n",
      "17716\n",
      "17816\n",
      "17915\n",
      "18014\n",
      "18113\n",
      "18212\n",
      "18310\n",
      "18409\n",
      "18507\n",
      "18603\n",
      "18699\n",
      "18799\n",
      "18899\n",
      "18998\n",
      "19095\n",
      "19193\n",
      "19291\n",
      "19387\n",
      "19485\n",
      "19583\n",
      "19680\n",
      "19777\n",
      "19876\n",
      "19976\n",
      "20076\n",
      "20176\n",
      "20276\n",
      "20374\n",
      "20473\n",
      "20571\n",
      "20671\n",
      "20771\n",
      "20870\n",
      "20968\n",
      "21068\n",
      "21168\n",
      "21267\n",
      "21366\n",
      "21465\n",
      "21565\n",
      "21664\n",
      "21763\n",
      "21863\n",
      "21962\n"
     ]
    }
   ],
   "source": [
    "cnt = 0\n",
    "for i in tqdm_notebook(range(len(texts))):\n",
    "    if i % 100 == 0:\n",
    "        print(i + 1 - cnt)\n",
    "    try:\n",
    "        texts[i] = translate(texts[i], dest='en')\n",
    "    except:\n",
    "        translator = Translator()\n",
    "        cnt += 1"
   ]
  },
  {
   "cell_type": "code",
   "execution_count": null,
   "metadata": {
    "ExecuteTime": {
     "end_time": "2017-11-03T11:08:22.968162Z",
     "start_time": "2017-11-03T08:05:53.545Z"
    },
    "collapsed": true
   },
   "outputs": [],
   "source": [
    "vacancy['text'] = list(map(lambda x: x.split(), vacancy['text']))"
   ]
  },
  {
   "cell_type": "code",
   "execution_count": 45,
   "metadata": {
    "ExecuteTime": {
     "end_time": "2017-11-03T10:57:51.683097Z",
     "start_time": "2017-11-03T10:57:51.678513Z"
    },
    "collapsed": true
   },
   "outputs": [],
   "source": [
    "new_tags = []\n",
    "eps = 1e-20"
   ]
  },
  {
   "cell_type": "code",
   "execution_count": 49,
   "metadata": {
    "ExecuteTime": {
     "end_time": "2017-11-03T10:59:45.581466Z",
     "start_time": "2017-11-03T10:59:45.417349Z"
    },
    "collapsed": false
   },
   "outputs": [
    {
     "name": "stdout",
     "output_type": "stream",
     "text": [
      "['a', 'leading', 'western', 'fmcg', 'company', 'with', 'manufacturing', 'in', 'russia', 'is', 'offering', 'excellent', 'opportunity', 'for', 'engineering', 'and', 'project', 'manager', 'the', 'right', 'candidate', 'will', 'have', '·', 'university', 'degree', 'in', 'mechanical,', 'electrical,', 'industrial,', 'chemical,', 'civil', 'engineering', '·', 'international', 'experience', 'in', 'project', 'realization', 'and', 'management', '.', '·', 'min', '8', 'years', 'experience', 'in', 'food', 'or', 'beverage', 'industry.', '·', 'knowledge', 'and', 'experience', 'in', 'manufacturing', 'and/or', 'engineering', 'management', 'in', 'multiple', 'plant', 'environment.', '·', 'responsibility', 'for', 'and', 'management', 'of', 'major', 'capital', 'projects,', 'including', 'civil', 'works.', '·', 'experience', 'and', 'expertise', 'in', 'the', 'areas', 'of', 'sensitive', 'products', 'and/or', 'mineral', 'water', 'are', 'desirable.', '·', 'fluent', 'business', 'english', '(oral', 'and', 'in', 'writing).', '·', 'strong', 'leadership', 'and', 'teambuilding', 'skills', '·', 'multilingual.', '·', 'traveling', 'company', 'provides', 'competitive', 'salary', 'and', 'excellent', 'social', 'leading', 'western', 'fmcg', 'company']\n",
      "['a', 'leading', 'company', 'with', 'manufacturing', 'in']\n",
      "['a', 'leading', 'western', 'with', 'manufacturing', 'in', 'russia']\n",
      "['leading', 'western', 'fmcg', 'company', 'in', 'russia', 'is', 'offering']\n",
      "['western', 'fmcg', 'company', 'with', 'russia', 'is', 'offering', 'excellent']\n",
      "['fmcg', 'company', 'with', 'manufacturing', 'is', 'offering', 'excellent', 'opportunity']\n",
      "['with', 'manufacturing', 'in', 'russia', 'excellent', 'opportunity', 'for', 'engineering']\n",
      "['is', 'offering', 'excellent', 'opportunity', 'and', 'project', 'manager', 'the']\n",
      "['excellent', 'opportunity', 'for', 'engineering', 'manager', 'the', 'right', 'candidate']\n",
      "['opportunity', 'for', 'engineering', 'and', 'the', 'right', 'candidate', 'will']\n",
      "['engineering', 'and', 'project', 'manager', 'candidate', 'will', 'have', '·']\n",
      "['and', 'project', 'manager', 'the', 'will', 'have', '·', 'university']\n",
      "['project', 'manager', 'the', 'right', 'have', '·', 'university', 'degree']\n",
      "['the', 'right', 'candidate', 'will', 'university', 'degree', 'in', 'mechanical,']\n",
      "['right', 'candidate', 'will', 'have', 'degree', 'in', 'mechanical,', 'electrical,']\n",
      "['candidate', 'will', 'have', '·', 'in', 'mechanical,', 'electrical,', 'industrial,']\n",
      "['will', 'have', '·', 'university', 'mechanical,', 'electrical,', 'industrial,', 'chemical,']\n",
      "['have', '·', 'university', 'degree', 'electrical,', 'industrial,', 'chemical,', 'civil']\n",
      "['·', 'university', 'degree', 'in', 'industrial,', 'chemical,', 'civil', 'engineering']\n",
      "['university', 'degree', 'in', 'mechanical,', 'chemical,', 'civil', 'engineering', '·']\n",
      "['degree', 'in', 'mechanical,', 'electrical,', 'civil', 'engineering', '·', 'international']\n",
      "['mechanical,', 'electrical,', 'industrial,', 'chemical,', '·', 'international', 'experience', 'in']\n",
      "['electrical,', 'industrial,', 'chemical,', 'civil', 'international', 'experience', 'in', 'project']\n",
      "['civil', 'engineering', '·', 'international', 'project', 'realization', 'and', 'management']\n",
      "['engineering', '·', 'international', 'experience', 'realization', 'and', 'management', '.']\n",
      "['·', 'international', 'experience', 'in', 'and', 'management', '.', '·']\n",
      "['in', 'project', 'realization', 'and', '·', 'min', '8', 'years']\n",
      "['project', 'realization', 'and', 'management', 'min', '8', 'years', 'experience']\n",
      "['realization', 'and', 'management', '.', '8', 'years', 'experience', 'in']\n",
      "['and', 'management', '.', '·', 'years', 'experience', 'in', 'food']\n",
      "['management', '.', '·', 'min', 'experience', 'in', 'food', 'or']\n",
      "['·', 'min', '8', 'years', 'food', 'or', 'beverage', 'industry.']\n",
      "['years', 'experience', 'in', 'food', 'industry.', '·', 'knowledge', 'and']\n",
      "['experience', 'in', 'food', 'or', '·', 'knowledge', 'and', 'experience']\n",
      "['in', 'food', 'or', 'beverage', 'knowledge', 'and', 'experience', 'in']\n",
      "['food', 'or', 'beverage', 'industry.', 'and', 'experience', 'in', 'manufacturing']\n",
      "['industry.', '·', 'knowledge', 'and', 'manufacturing', 'and/or', 'engineering', 'management']\n",
      "['·', 'knowledge', 'and', 'experience', 'and/or', 'engineering', 'management', 'in']\n",
      "['knowledge', 'and', 'experience', 'in', 'engineering', 'management', 'in', 'multiple']\n",
      "['and', 'experience', 'in', 'manufacturing', 'management', 'in', 'multiple', 'plant']\n",
      "['in', 'manufacturing', 'and/or', 'engineering', 'multiple', 'plant', 'environment.', '·']\n",
      "['and/or', 'engineering', 'management', 'in', 'environment.', '·', 'responsibility', 'for']\n",
      "['engineering', 'management', 'in', 'multiple', '·', 'responsibility', 'for', 'and']\n",
      "['management', 'in', 'multiple', 'plant', 'responsibility', 'for', 'and', 'management']\n",
      "['in', 'multiple', 'plant', 'environment.', 'for', 'and', 'management', 'of']\n",
      "['for', 'and', 'management', 'of', 'projects,', 'including', 'civil', 'works.']\n",
      "['and', 'management', 'of', 'major', 'including', 'civil', 'works.', '·']\n",
      "['management', 'of', 'major', 'capital', 'civil', 'works.', '·', 'experience']\n",
      "['major', 'capital', 'projects,', 'including', '·', 'experience', 'and', 'expertise']\n",
      "['capital', 'projects,', 'including', 'civil', 'experience', 'and', 'expertise', 'in']\n",
      "['civil', 'works.', '·', 'experience', 'in', 'the', 'areas', 'of']\n",
      "['works.', '·', 'experience', 'and', 'the', 'areas', 'of', 'sensitive']\n",
      "['experience', 'and', 'expertise', 'in', 'of', 'sensitive', 'products', 'and/or']\n",
      "['expertise', 'in', 'the', 'areas', 'products', 'and/or', 'mineral', 'water']\n",
      "['in', 'the', 'areas', 'of', 'and/or', 'mineral', 'water', 'are']\n",
      "['the', 'areas', 'of', 'sensitive', 'mineral', 'water', 'are', 'desirable.']\n",
      "['areas', 'of', 'sensitive', 'products', 'water', 'are', 'desirable.', '·']\n",
      "['of', 'sensitive', 'products', 'and/or', 'are', 'desirable.', '·', 'fluent']\n",
      "['sensitive', 'products', 'and/or', 'mineral', 'desirable.', '·', 'fluent', 'business']\n",
      "['products', 'and/or', 'mineral', 'water', '·', 'fluent', 'business', 'english']\n",
      "['and/or', 'mineral', 'water', 'are', 'fluent', 'business', 'english', '(oral']\n",
      "['mineral', 'water', 'are', 'desirable.', 'business', 'english', '(oral', 'and']\n",
      "['desirable.', '·', 'fluent', 'business', 'and', 'in', 'writing).', '·']\n",
      "['fluent', 'business', 'english', '(oral', 'writing).', '·', 'strong', 'leadership']\n",
      "['business', 'english', '(oral', 'and', '·', 'strong', 'leadership', 'and']\n",
      "['english', '(oral', 'and', 'in', 'strong', 'leadership', 'and', 'teambuilding']\n",
      "['(oral', 'and', 'in', 'writing).', 'leadership', 'and', 'teambuilding', 'skills']\n",
      "['and', 'in', 'writing).', '·', 'and', 'teambuilding', 'skills', '·']\n",
      "['writing).', '·', 'strong', 'leadership', 'skills', '·', 'multilingual.', '·']\n",
      "['·', 'strong', 'leadership', 'and', '·', 'multilingual.', '·', 'traveling']\n",
      "['strong', 'leadership', 'and', 'teambuilding', 'multilingual.', '·', 'traveling', 'company']\n",
      "['leadership', 'and', 'teambuilding', 'skills', '·', 'traveling', 'company', 'provides']\n",
      "['and', 'teambuilding', 'skills', '·', 'traveling', 'company', 'provides', 'competitive']\n",
      "['teambuilding', 'skills', '·', 'multilingual.', 'company', 'provides', 'competitive', 'salary']\n",
      "['skills', '·', 'multilingual.', '·', 'provides', 'competitive', 'salary', 'and']\n",
      "['·', 'multilingual.', '·', 'traveling', 'competitive', 'salary', 'and', 'excellent']\n",
      "['·', 'traveling', 'company', 'provides', 'and', 'excellent', 'social', 'package.']\n",
      "['provides', 'competitive', 'salary', 'and', 'package.']\n",
      "['competitive', 'salary', 'and', 'excellent']\n",
      "['в', 'торговую', 'фирму', '(швейная', 'фурнитура', 'и', 'оборудование).', 'задачи:', 'прием', 'звонков,', 'телефонные', 'консультации', 'по', 'ассортименту.', 'требования:', 'женщина', 'от', '23', 'до', '35', 'лет,', 'опыт', 'работы', 'в', 'качестве', 'швейного', 'технолога', 'или', 'портного,', 'хорошая', 'дикция.', 'м.', '“бауманская”,', 'рабочий', 'день', 'с', '9.00', 'до', '18.00,', 'оформление', 'по', 'трудовой', 'книжке,', 'оплачиваемый', 'отпуск,', 'бесплатное', 'питание.', 'зарплата', '7000', 'торговую', 'фирму', '(швейная', 'фурнитура']\n",
      "['в', '(швейная', 'фурнитура', 'и', 'оборудование).']\n",
      "['в', 'торговую', 'фурнитура', 'и', 'оборудование).', 'задачи:']\n",
      "['в', 'торговую', 'фирму', '(швейная', 'оборудование).', 'задачи:', 'прием', 'звонков,']\n",
      "['(швейная', 'фурнитура', 'и', 'оборудование).', 'звонков,', 'телефонные', 'консультации', 'по']\n",
      "['задачи:', 'прием', 'звонков,', 'телефонные', 'ассортименту.', 'требования:', 'женщина', 'от']\n",
      "['телефонные', 'консультации', 'по', 'ассортименту.', 'от', '23', 'до', '35']\n",
      "['консультации', 'по', 'ассортименту.', 'требования:', '23', 'до', '35', 'лет,']\n",
      "['по', 'ассортименту.', 'требования:', 'женщина', 'до', '35', 'лет,', 'опыт']\n",
      "['ассортименту.', 'требования:', 'женщина', 'от', '35', 'лет,', 'опыт', 'работы']\n",
      "['требования:', 'женщина', 'от', '23', 'лет,', 'опыт', 'работы', 'в']\n",
      "['до', '35', 'лет,', 'опыт', 'качестве', 'швейного', 'технолога', 'или']\n",
      "['лет,', 'опыт', 'работы', 'в', 'технолога', 'или', 'портного,', 'хорошая']\n",
      "['работы', 'в', 'качестве', 'швейного', 'портного,', 'хорошая', 'дикция.', 'м.']\n",
      "['технолога', 'или', 'портного,', 'хорошая', '“бауманская”,', 'рабочий', 'день', 'с']\n",
      "['или', 'портного,', 'хорошая', 'дикция.', 'рабочий', 'день', 'с', '9.00']\n",
      "['дикция.', 'м.', '“бауманская”,', 'рабочий', '9.00', 'до', '18.00,', 'оформление']\n",
      "['м.', '“бауманская”,', 'рабочий', 'день', 'до', '18.00,', 'оформление', 'по']\n",
      "['“бауманская”,', 'рабочий', 'день', 'с', '18.00,', 'оформление', 'по', 'трудовой']\n",
      "['рабочий', 'день', 'с', '9.00', 'оформление', 'по', 'трудовой', 'книжке,']\n",
      "['с', '9.00', 'до', '18.00,', 'трудовой', 'книжке,', 'оплачиваемый', 'отпуск,']\n",
      "['до', '18.00,', 'оформление', 'по', 'оплачиваемый', 'отпуск,', 'бесплатное', 'питание.']\n",
      "['оплачиваемый', 'отпуск,', 'бесплатное', 'питание.', 'руб.']\n",
      "['приглашается', 'склад,', 'желательно', 'с', 'автомобилем.']\n",
      "['приглашается', 'рабочий', 'на', 'склад,', 'автомобилем.', 'зарплата', '$300']\n",
      "['склад,', 'желат"
     ]
    },
    {
     "data": {
      "text/html": [
       "<b>limit_output extension: Maximum message size of 10000 exceeded with 38215 characters</b>"
      ]
     },
     "metadata": {},
     "output_type": "display_data"
    }
   ],
   "source": [
    "for text in tqdm_notebook(vacancy['text'][10:20]):\n",
    "    for i in range(len(text)):\n",
    "        veci = words2vecs([text[i]])[0]\n",
    "        if np.sum(veci * nvec) / (len(veci) * len(nvec)) <= eps:\n",
    "            print(text[max(i - 5, 0): i - 1] + text[i + 1:i + 5])\n",
    "            new_tags.extend(text[max(i - 5, 0): i] + text[i:i + 5])"
   ]
  },
  {
   "cell_type": "code",
   "execution_count": 41,
   "metadata": {
    "ExecuteTime": {
     "end_time": "2017-11-03T16:50:33.344057Z",
     "start_time": "2017-11-03T16:50:33.339787Z"
    },
    "collapsed": false
   },
   "outputs": [],
   "source": [
    "tags.sort()"
   ]
  },
  {
   "cell_type": "code",
   "execution_count": 98,
   "metadata": {
    "ExecuteTime": {
     "end_time": "2017-11-03T17:27:20.559724Z",
     "start_time": "2017-11-03T17:27:20.548201Z"
    },
    "collapsed": false
   },
   "outputs": [
    {
     "ename": "TypeError",
     "evalue": "'set' object is not subscriptable",
     "output_type": "error",
     "traceback": [
      "\u001b[0;31m---------------------------------------------------------------------------\u001b[0m",
      "\u001b[0;31mTypeError\u001b[0m                                 Traceback (most recent call last)",
      "\u001b[0;32m<ipython-input-98-14cd59bf3502>\u001b[0m in \u001b[0;36m<module>\u001b[0;34m()\u001b[0m\n\u001b[0;32m----> 1\u001b[0;31m \u001b[0mtags\u001b[0m \u001b[0;34m=\u001b[0m \u001b[0mlist\u001b[0m\u001b[0;34m(\u001b[0m\u001b[0mset\u001b[0m\u001b[0;34m(\u001b[0m\u001b[0mtags\u001b[0m\u001b[0;34m[\u001b[0m\u001b[0;34m:\u001b[0m\u001b[0mlen\u001b[0m\u001b[0;34m(\u001b[0m\u001b[0mtags\u001b[0m\u001b[0;34m)\u001b[0m\u001b[0;34m//\u001b[0m\u001b[0;36m2\u001b[0m \u001b[0;34m+\u001b[0m \u001b[0;36m8\u001b[0m\u001b[0;34m]\u001b[0m\u001b[0;34m)\u001b[0m\u001b[0;34m)\u001b[0m\u001b[0;34m\u001b[0m\u001b[0m\n\u001b[0m",
      "\u001b[0;31mTypeError\u001b[0m: 'set' object is not subscriptable"
     ]
    }
   ],
   "source": [
    "tags = set(tags[:len(tags)//2 + 8])"
   ]
  },
  {
   "cell_type": "code",
   "execution_count": 99,
   "metadata": {
    "ExecuteTime": {
     "end_time": "2017-11-03T17:27:40.268779Z",
     "start_time": "2017-11-03T17:27:40.264528Z"
    },
    "collapsed": false
   },
   "outputs": [],
   "source": [
    "tags = list(tags)"
   ]
  },
  {
   "cell_type": "code",
   "execution_count": 100,
   "metadata": {
    "ExecuteTime": {
     "end_time": "2017-11-03T17:27:48.804932Z",
     "start_time": "2017-11-03T17:27:48.800810Z"
    },
    "collapsed": true
   },
   "outputs": [],
   "source": [
    "from sklearn.cluster import Birch"
   ]
  },
  {
   "cell_type": "code",
   "execution_count": 151,
   "metadata": {
    "ExecuteTime": {
     "end_time": "2017-11-03T17:37:05.390180Z",
     "start_time": "2017-11-03T17:37:05.386138Z"
    },
    "collapsed": true
   },
   "outputs": [],
   "source": [
    "n_clusters = 9"
   ]
  },
  {
   "cell_type": "code",
   "execution_count": 152,
   "metadata": {
    "ExecuteTime": {
     "end_time": "2017-11-03T17:37:05.795494Z",
     "start_time": "2017-11-03T17:37:05.791302Z"
    },
    "collapsed": true
   },
   "outputs": [],
   "source": [
    "brc = Birch(n_clusters=n_clusters)"
   ]
  },
  {
   "cell_type": "code",
   "execution_count": 153,
   "metadata": {
    "ExecuteTime": {
     "end_time": "2017-11-03T17:37:06.276728Z",
     "start_time": "2017-11-03T17:37:06.250910Z"
    },
    "collapsed": true
   },
   "outputs": [],
   "source": [
    "X = list(map(lambda x: words2vecs([x])[0], tags))"
   ]
  },
  {
   "cell_type": "code",
   "execution_count": 154,
   "metadata": {
    "ExecuteTime": {
     "end_time": "2017-11-03T17:37:06.911405Z",
     "start_time": "2017-11-03T17:37:06.899023Z"
    },
    "collapsed": false
   },
   "outputs": [
    {
     "data": {
      "text/plain": [
       "Birch(branching_factor=50, compute_labels=True, copy=True, n_clusters=9,\n",
       "   threshold=0.5)"
      ]
     },
     "execution_count": 154,
     "metadata": {},
     "output_type": "execute_result"
    }
   ],
   "source": [
    "brc.fit(X)"
   ]
  },
  {
   "cell_type": "code",
   "execution_count": 155,
   "metadata": {
    "ExecuteTime": {
     "end_time": "2017-11-03T17:37:07.593866Z",
     "start_time": "2017-11-03T17:37:07.589566Z"
    },
    "collapsed": true
   },
   "outputs": [],
   "source": [
    "import matplotlib\n",
    "import matplotlib.pyplot as plt"
   ]
  },
  {
   "cell_type": "code",
   "execution_count": 156,
   "metadata": {
    "ExecuteTime": {
     "end_time": "2017-11-03T17:37:08.081626Z",
     "start_time": "2017-11-03T17:37:08.075830Z"
    },
    "collapsed": false
   },
   "outputs": [],
   "source": [
    "%matplotlib inline"
   ]
  },
  {
   "cell_type": "code",
   "execution_count": 157,
   "metadata": {
    "ExecuteTime": {
     "end_time": "2017-11-03T17:37:08.685489Z",
     "start_time": "2017-11-03T17:37:08.673925Z"
    },
    "collapsed": false,
    "run_control": {
     "marked": false
    }
   },
   "outputs": [],
   "source": [
    "p = brc.fit_predict(X)"
   ]
  },
  {
   "cell_type": "code",
   "execution_count": 158,
   "metadata": {
    "ExecuteTime": {
     "end_time": "2017-11-03T17:37:09.248688Z",
     "start_time": "2017-11-03T17:37:09.243871Z"
    },
    "collapsed": false
   },
   "outputs": [],
   "source": [
    "clusters = [[] for i in range(n_clusters)]"
   ]
  },
  {
   "cell_type": "code",
   "execution_count": 159,
   "metadata": {
    "ExecuteTime": {
     "end_time": "2017-11-03T17:37:11.273894Z",
     "start_time": "2017-11-03T17:37:11.270026Z"
    },
    "collapsed": false
   },
   "outputs": [],
   "source": [
    "for i in range(len(tags)):\n",
    "    clusters[p[i] - 1].append(tags[i])"
   ]
  },
  {
   "cell_type": "code",
   "execution_count": 160,
   "metadata": {
    "ExecuteTime": {
     "end_time": "2017-11-03T17:37:12.007387Z",
     "start_time": "2017-11-03T17:37:12.002154Z"
    },
    "collapsed": false
   },
   "outputs": [
    {
     "data": {
      "text/plain": [
       "[['php', 'html', 'sql'],\n",
       " ['java', 'ruby', 'pascal', 'css', 'ios', 'android'],\n",
       " ['automated pattern recognition',\n",
       "  'classification',\n",
       "  'text classification',\n",
       "  'pattern recognition',\n",
       "  'pattern classification',\n",
       "  'pattern matching',\n",
       "  'statistical pattern recognition',\n",
       "  'object recognition'],\n",
       " ['predictive modeling',\n",
       "  'predictive analytics',\n",
       "  'prediction',\n",
       "  'bioinformatics'],\n",
       " ['assembler'],\n",
       " ['python'],\n",
       " ['javascript'],\n",
       " ['reinforcement learning',\n",
       "  'semi-supervised learning',\n",
       "  'unsupervised learning',\n",
       "  'advanced machine learning',\n",
       "  'supervised learning',\n",
       "  'statistical learning',\n",
       "  'machine learning'],\n",
       " ['association rule mining',\n",
       "  'svd',\n",
       "  'computational intelligence',\n",
       "  'high-dimensional data analysis',\n",
       "  'data processing and computer science',\n",
       "  'social network analysis',\n",
       "  'web devops',\n",
       "  'artificial intelligence',\n",
       "  'feature extraction',\n",
       "  'fuzzy clustering',\n",
       "  'c++',\n",
       "  'large scale data analysis',\n",
       "  'neural networks',\n",
       "  'data preparation',\n",
       "  'genetic programming',\n",
       "  'applied artificial intelligence',\n",
       "  'neural networks and artificial intelligence',\n",
       "  'information extraction',\n",
       "  'frequent pattern mining',\n",
       "  'c ++',\n",
       "  'nonlinear regression',\n",
       "  '.net',\n",
       "  'text mining',\n",
       "  'web',\n",
       "  'data clustering',\n",
       "  'database',\n",
       "  'natural language processing',\n",
       "  'object-oriented',\n",
       "  'c',\n",
       "  'backpropagation',\n",
       "  'web mining',\n",
       "  'knn',\n",
       "  'hierarchical cluster analysis',\n",
       "  'feature selection',\n",
       "  'soft computing',\n",
       "  'knowledge discovery',\n",
       "  'c#',\n",
       "  'software',\n",
       "  'sentiment analysis',\n",
       "  'data science',\n",
       "  'statistical data analysis',\n",
       "  'machine intelligence']]"
      ]
     },
     "execution_count": 160,
     "metadata": {},
     "output_type": "execute_result"
    }
   ],
   "source": [
    "clusters"
   ]
  },
  {
   "cell_type": "code",
   "execution_count": null,
   "metadata": {
    "collapsed": true
   },
   "outputs": [],
   "source": []
  }
 ],
 "metadata": {
  "kernelspec": {
   "display_name": "Python 3",
   "language": "python",
   "name": "python3"
  },
  "language_info": {
   "codemirror_mode": {
    "name": "ipython",
    "version": 3
   },
   "file_extension": ".py",
   "mimetype": "text/x-python",
   "name": "python",
   "nbconvert_exporter": "python",
   "pygments_lexer": "ipython3",
   "version": "3.6.0"
  },
  "widgets": {
   "state": {
    "0b09111b3a2540969bee2e408d920741": {
     "views": [
      {
       "cell_index": 53
      }
     ]
    },
    "0ddf731f9f5d4c459be3041b17d4774b": {
     "views": [
      {
       "cell_index": 54
      }
     ]
    },
    "1162ffb0874a4b368c274e8b648a94b5": {
     "views": [
      {
       "cell_index": 49
      }
     ]
    },
    "19773a40fa454dff8828e38999653062": {
     "views": [
      {
       "cell_index": 49
      }
     ]
    },
    "20daf4d3f2a8411fb7072e4b7aafdb5c": {
     "views": [
      {
       "cell_index": 49
      }
     ]
    },
    "241edcff864a4e97b5a022d92d482213": {
     "views": [
      {
       "cell_index": 49
      }
     ]
    },
    "243d4bdb0464418dad3fcc4ac866ad14": {
     "views": [
      {
       "cell_index": 21
      }
     ]
    },
    "2f4ebde895da46669ce4c93ec6378f70": {
     "views": [
      {
       "cell_index": 53
      }
     ]
    },
    "3c6eda561d3e4e878023fcdcf16159cb": {
     "views": [
      {
       "cell_index": 32
      }
     ]
    },
    "4d06a0f8fa0747bfaa5ff4604a61da82": {
     "views": [
      {
       "cell_index": 27
      }
     ]
    },
    "5197a618d44246f1b160d991aaab8469": {
     "views": [
      {
       "cell_index": 30
      }
     ]
    },
    "52597930458a41c885c2ccd6dd722fff": {
     "views": [
      {
       "cell_index": 49
      }
     ]
    },
    "5fe2ff34644b4821963d9a4f6062fa78": {
     "views": [
      {
       "cell_index": 27
      }
     ]
    },
    "685f0e50445c4f2c9bb93017b2d72a8b": {
     "views": [
      {
       "cell_index": 49
      }
     ]
    },
    "6ca64dce3d204121834d1d820fdd1517": {
     "views": [
      {
       "cell_index": 48
      }
     ]
    },
    "706f12fd329447cf9505fc2a475c73ac": {
     "views": [
      {
       "cell_index": 27
      }
     ]
    },
    "7472c6aa8feb4614abf15292c3720904": {
     "views": [
      {
       "cell_index": 49
      }
     ]
    },
    "a25b8f9ff3624a06a66d4b34aa703d64": {
     "views": [
      {
       "cell_index": 49
      }
     ]
    },
    "ad07401d93d0490e84de8145da70b507": {
     "views": [
      {
       "cell_index": 49
      }
     ]
    },
    "b20d94e414c74ebcaba1ac45a17199bd": {
     "views": [
      {
       "cell_index": 27
      }
     ]
    },
    "bc6596f1a8ae4d55bfc47be340dd0a12": {
     "views": [
      {
       "cell_index": 49
      }
     ]
    },
    "d07cf759fe3d49c690e4f46702bee8c2": {
     "views": [
      {
       "cell_index": 27
      }
     ]
    },
    "dca59d5caa5a4938a623660ba086457f": {
     "views": [
      {
       "cell_index": 49
      }
     ]
    },
    "e41050821455432385d2cf816e62637e": {
     "views": [
      {
       "cell_index": 27
      }
     ]
    },
    "ed846bbc4ae94f01a4815e18b0324731": {
     "views": [
      {
       "cell_index": 27
      }
     ]
    },
    "ee8b98e0b9a645d8912583f5d68a2e73": {
     "views": [
      {
       "cell_index": 53
      }
     ]
    },
    "f64d9419814a488f9ca446701525262c": {
     "views": [
      {
       "cell_index": 49
      }
     ]
    },
    "f6be7910738d4170b98985663508e394": {
     "views": [
      {
       "cell_index": 27
      }
     ]
    },
    "fec3137ece164177898dac8e5ffcf6da": {
     "views": [
      {
       "cell_index": 49
      }
     ]
    }
   },
   "version": "1.2.0"
  }
 },
 "nbformat": 4,
 "nbformat_minor": 2
}
